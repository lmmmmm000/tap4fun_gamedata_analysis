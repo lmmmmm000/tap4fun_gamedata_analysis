{
 "cells": [
  {
   "cell_type": "code",
   "execution_count": 1,
   "metadata": {},
   "outputs": [],
   "source": [
    "import pandas as pd    #导入pandas\n",
    "import numpy as np     #导入numpy\n",
    "import matplotlib.pyplot as plt"
   ]
  },
  {
   "cell_type": "code",
   "execution_count": 2,
   "metadata": {},
   "outputs": [],
   "source": [
    "plt.rcParams['font.sans-serif']=['SimHei']      #设置matplotlib中文显示\n",
    "plt.rcParams['axes.unicode_minus']=False        #正常显示负号\n",
    "%matplotlib inline"
   ]
  },
  {
   "cell_type": "code",
   "execution_count": 3,
   "metadata": {},
   "outputs": [],
   "source": [
    "import warnings\n",
    "warnings.filterwarnings('ignore') #为了整洁，去除弹出的warnings\n",
    "pd.set_option('precision', 5) #设置精度\n",
    "pd.set_option('display.float_format', lambda x: '%.2f' % x) #为了直观的显示数字，不采用科学计数法\n"
   ]
  },
  {
   "cell_type": "code",
   "execution_count": 4,
   "metadata": {},
   "outputs": [],
   "source": [
    "path = \"./tap_fun_train.csv\"\n",
    "tapfun = pd.read_csv(path)"
   ]
  },
  {
   "cell_type": "code",
   "execution_count": 5,
   "metadata": {},
   "outputs": [
    {
     "data": {
      "text/html": [
       "<div>\n",
       "<style scoped>\n",
       "    .dataframe tbody tr th:only-of-type {\n",
       "        vertical-align: middle;\n",
       "    }\n",
       "\n",
       "    .dataframe tbody tr th {\n",
       "        vertical-align: top;\n",
       "    }\n",
       "\n",
       "    .dataframe thead th {\n",
       "        text-align: right;\n",
       "    }\n",
       "</style>\n",
       "<table border=\"1\" class=\"dataframe\">\n",
       "  <thead>\n",
       "    <tr style=\"text-align: right;\">\n",
       "      <th></th>\n",
       "      <th>user_id</th>\n",
       "      <th>register_time</th>\n",
       "      <th>wood_add_value</th>\n",
       "      <th>wood_reduce_value</th>\n",
       "      <th>stone_add_value</th>\n",
       "      <th>stone_reduce_value</th>\n",
       "      <th>ivory_add_value</th>\n",
       "      <th>ivory_reduce_value</th>\n",
       "      <th>meat_add_value</th>\n",
       "      <th>meat_reduce_value</th>\n",
       "      <th>...</th>\n",
       "      <th>pvp_battle_count</th>\n",
       "      <th>pvp_lanch_count</th>\n",
       "      <th>pvp_win_count</th>\n",
       "      <th>pve_battle_count</th>\n",
       "      <th>pve_lanch_count</th>\n",
       "      <th>pve_win_count</th>\n",
       "      <th>avg_online_minutes</th>\n",
       "      <th>pay_price</th>\n",
       "      <th>pay_count</th>\n",
       "      <th>prediction_pay_price</th>\n",
       "    </tr>\n",
       "  </thead>\n",
       "  <tbody>\n",
       "    <tr>\n",
       "      <td>0</td>\n",
       "      <td>1</td>\n",
       "      <td>2018-02-02 19:47:15</td>\n",
       "      <td>20125.00</td>\n",
       "      <td>3700.00</td>\n",
       "      <td>0.00</td>\n",
       "      <td>0.00</td>\n",
       "      <td>0.00</td>\n",
       "      <td>0.00</td>\n",
       "      <td>16375.00</td>\n",
       "      <td>2000.00</td>\n",
       "      <td>...</td>\n",
       "      <td>0</td>\n",
       "      <td>0</td>\n",
       "      <td>0</td>\n",
       "      <td>0</td>\n",
       "      <td>0</td>\n",
       "      <td>0</td>\n",
       "      <td>0.33</td>\n",
       "      <td>0.00</td>\n",
       "      <td>0</td>\n",
       "      <td>0.00</td>\n",
       "    </tr>\n",
       "    <tr>\n",
       "      <td>1</td>\n",
       "      <td>1593</td>\n",
       "      <td>2018-01-26 00:01:05</td>\n",
       "      <td>0.00</td>\n",
       "      <td>0.00</td>\n",
       "      <td>0.00</td>\n",
       "      <td>0.00</td>\n",
       "      <td>0.00</td>\n",
       "      <td>0.00</td>\n",
       "      <td>0.00</td>\n",
       "      <td>0.00</td>\n",
       "      <td>...</td>\n",
       "      <td>0</td>\n",
       "      <td>0</td>\n",
       "      <td>0</td>\n",
       "      <td>0</td>\n",
       "      <td>0</td>\n",
       "      <td>0</td>\n",
       "      <td>0.33</td>\n",
       "      <td>0.00</td>\n",
       "      <td>0</td>\n",
       "      <td>0.00</td>\n",
       "    </tr>\n",
       "    <tr>\n",
       "      <td>2</td>\n",
       "      <td>1594</td>\n",
       "      <td>2018-01-26 00:01:58</td>\n",
       "      <td>0.00</td>\n",
       "      <td>0.00</td>\n",
       "      <td>0.00</td>\n",
       "      <td>0.00</td>\n",
       "      <td>0.00</td>\n",
       "      <td>0.00</td>\n",
       "      <td>0.00</td>\n",
       "      <td>0.00</td>\n",
       "      <td>...</td>\n",
       "      <td>0</td>\n",
       "      <td>0</td>\n",
       "      <td>0</td>\n",
       "      <td>0</td>\n",
       "      <td>0</td>\n",
       "      <td>0</td>\n",
       "      <td>1.17</td>\n",
       "      <td>0.00</td>\n",
       "      <td>0</td>\n",
       "      <td>0.00</td>\n",
       "    </tr>\n",
       "    <tr>\n",
       "      <td>3</td>\n",
       "      <td>1595</td>\n",
       "      <td>2018-01-26 00:02:13</td>\n",
       "      <td>0.00</td>\n",
       "      <td>0.00</td>\n",
       "      <td>0.00</td>\n",
       "      <td>0.00</td>\n",
       "      <td>0.00</td>\n",
       "      <td>0.00</td>\n",
       "      <td>0.00</td>\n",
       "      <td>0.00</td>\n",
       "      <td>...</td>\n",
       "      <td>0</td>\n",
       "      <td>0</td>\n",
       "      <td>0</td>\n",
       "      <td>0</td>\n",
       "      <td>0</td>\n",
       "      <td>0</td>\n",
       "      <td>3.17</td>\n",
       "      <td>0.00</td>\n",
       "      <td>0</td>\n",
       "      <td>0.00</td>\n",
       "    </tr>\n",
       "    <tr>\n",
       "      <td>4</td>\n",
       "      <td>1596</td>\n",
       "      <td>2018-01-26 00:02:46</td>\n",
       "      <td>0.00</td>\n",
       "      <td>0.00</td>\n",
       "      <td>0.00</td>\n",
       "      <td>0.00</td>\n",
       "      <td>0.00</td>\n",
       "      <td>0.00</td>\n",
       "      <td>0.00</td>\n",
       "      <td>0.00</td>\n",
       "      <td>...</td>\n",
       "      <td>0</td>\n",
       "      <td>0</td>\n",
       "      <td>0</td>\n",
       "      <td>0</td>\n",
       "      <td>0</td>\n",
       "      <td>0</td>\n",
       "      <td>2.33</td>\n",
       "      <td>0.00</td>\n",
       "      <td>0</td>\n",
       "      <td>0.00</td>\n",
       "    </tr>\n",
       "  </tbody>\n",
       "</table>\n",
       "<p>5 rows × 109 columns</p>\n",
       "</div>"
      ],
      "text/plain": [
       "   user_id        register_time  wood_add_value  wood_reduce_value  \\\n",
       "0        1  2018-02-02 19:47:15        20125.00            3700.00   \n",
       "1     1593  2018-01-26 00:01:05            0.00               0.00   \n",
       "2     1594  2018-01-26 00:01:58            0.00               0.00   \n",
       "3     1595  2018-01-26 00:02:13            0.00               0.00   \n",
       "4     1596  2018-01-26 00:02:46            0.00               0.00   \n",
       "\n",
       "   stone_add_value  stone_reduce_value  ivory_add_value  ivory_reduce_value  \\\n",
       "0             0.00                0.00             0.00                0.00   \n",
       "1             0.00                0.00             0.00                0.00   \n",
       "2             0.00                0.00             0.00                0.00   \n",
       "3             0.00                0.00             0.00                0.00   \n",
       "4             0.00                0.00             0.00                0.00   \n",
       "\n",
       "   meat_add_value  meat_reduce_value  ...  pvp_battle_count  pvp_lanch_count  \\\n",
       "0        16375.00            2000.00  ...                 0                0   \n",
       "1            0.00               0.00  ...                 0                0   \n",
       "2            0.00               0.00  ...                 0                0   \n",
       "3            0.00               0.00  ...                 0                0   \n",
       "4            0.00               0.00  ...                 0                0   \n",
       "\n",
       "   pvp_win_count  pve_battle_count  pve_lanch_count  pve_win_count  \\\n",
       "0              0                 0                0              0   \n",
       "1              0                 0                0              0   \n",
       "2              0                 0                0              0   \n",
       "3              0                 0                0              0   \n",
       "4              0                 0                0              0   \n",
       "\n",
       "   avg_online_minutes  pay_price  pay_count  prediction_pay_price  \n",
       "0                0.33       0.00          0                  0.00  \n",
       "1                0.33       0.00          0                  0.00  \n",
       "2                1.17       0.00          0                  0.00  \n",
       "3                3.17       0.00          0                  0.00  \n",
       "4                2.33       0.00          0                  0.00  \n",
       "\n",
       "[5 rows x 109 columns]"
      ]
     },
     "execution_count": 5,
     "metadata": {},
     "output_type": "execute_result"
    }
   ],
   "source": [
    "tapfun.head()"
   ]
  },
  {
   "cell_type": "code",
   "execution_count": 12,
   "metadata": {},
   "outputs": [
    {
     "data": {
      "text/plain": [
       "(2288007, 110)"
      ]
     },
     "execution_count": 12,
     "metadata": {},
     "output_type": "execute_result"
    }
   ],
   "source": [
    "tapfun.shape"
   ]
  },
  {
   "cell_type": "code",
   "execution_count": 13,
   "metadata": {},
   "outputs": [
    {
     "data": {
      "text/plain": [
       "user_id                      False\n",
       "register_time                False\n",
       "wood_add_value               False\n",
       "wood_reduce_value            False\n",
       "stone_add_value              False\n",
       "                             ...  \n",
       "avg_online_minutes           False\n",
       "pay_price                    False\n",
       "pay_count                    False\n",
       "prediction_pay_price         False\n",
       "tapfun_register_time_date    False\n",
       "Length: 110, dtype: bool"
      ]
     },
     "execution_count": 13,
     "metadata": {},
     "output_type": "execute_result"
    }
   ],
   "source": [
    "tapfun.isnull().any()#查看缺失值"
   ]
  },
  {
   "cell_type": "code",
   "execution_count": 14,
   "metadata": {},
   "outputs": [
    {
     "data": {
      "text/plain": [
       "False"
      ]
     },
     "execution_count": 14,
     "metadata": {},
     "output_type": "execute_result"
    }
   ],
   "source": [
    "tapfun.duplicated(subset='user_id').any()#查看user_id是不是有重复值"
   ]
  },
  {
   "cell_type": "code",
   "execution_count": 15,
   "metadata": {},
   "outputs": [
    {
     "data": {
      "text/plain": [
       "user_id                               int64\n",
       "register_time                datetime64[ns]\n",
       "wood_add_value                      float64\n",
       "wood_reduce_value                   float64\n",
       "stone_add_value                     float64\n",
       "                                  ...      \n",
       "avg_online_minutes                  float64\n",
       "pay_price                           float64\n",
       "pay_count                             int64\n",
       "prediction_pay_price                float64\n",
       "tapfun_register_time_date            object\n",
       "Length: 110, dtype: object"
      ]
     },
     "execution_count": 15,
     "metadata": {},
     "output_type": "execute_result"
    }
   ],
   "source": [
    "tapfun.dtypes"
   ]
  },
  {
   "cell_type": "markdown",
   "metadata": {},
   "source": [
    "### 处理时序"
   ]
  },
  {
   "cell_type": "code",
   "execution_count": 16,
   "metadata": {},
   "outputs": [
    {
     "data": {
      "text/plain": [
       "datetime.date(2018, 1, 26)"
      ]
     },
     "execution_count": 16,
     "metadata": {},
     "output_type": "execute_result"
    }
   ],
   "source": [
    "tapfun['register_time'] = pd.to_datetime(tapfun['register_time'])\n",
    "tapfun['register_time'][1].date()"
   ]
  },
  {
   "cell_type": "code",
   "execution_count": 17,
   "metadata": {},
   "outputs": [
    {
     "data": {
      "text/plain": [
       "0    2018-02-02\n",
       "1    2018-01-26\n",
       "2    2018-01-26\n",
       "3    2018-01-26\n",
       "4    2018-01-26\n",
       "Name: tapfun_register_time_date, dtype: object"
      ]
     },
     "execution_count": 17,
     "metadata": {},
     "output_type": "execute_result"
    }
   ],
   "source": [
    "#转化时间为年月日\n",
    "tapfun_register_time_date = []\n",
    "for i in tapfun['register_time']:\n",
    "    tapfun_register_time_date.append(i.date())\n",
    "tapfun['tapfun_register_time_date'] = tapfun_register_time_date\n",
    "tapfun['tapfun_register_time_date'].head()"
   ]
  },
  {
   "cell_type": "markdown",
   "metadata": {},
   "source": [
    "### 针对每天注册量作图"
   ]
  },
  {
   "cell_type": "code",
   "execution_count": 18,
   "metadata": {},
   "outputs": [
    {
     "data": {
      "text/plain": [
       "<matplotlib.axes._subplots.AxesSubplot at 0x7fde358bca50>"
      ]
     },
     "execution_count": 18,
     "metadata": {},
     "output_type": "execute_result"
    },
    {
     "name": "stderr",
     "output_type": "stream",
     "text": [
      "findfont: Font family ['sans-serif'] not found. Falling back to DejaVu Sans.\n"
     ]
    },
    {
     "data": {
      "image/png": "[encoded data removed]",
      "text/plain": [
       "<Figure size 1152x576 with 1 Axes>"
      ]
     },
     "metadata": {
      "needs_background": "light"
     },
     "output_type": "display_data"
    }
   ],
   "source": [
    "register_time_plot = tapfun[['user_id','tapfun_register_time_date']].groupby('tapfun_register_time_date').size()\n",
    "register_time_plot.plot(figsize=(16,8))"
   ]
  },
  {
   "cell_type": "markdown",
   "metadata": {},
   "source": [
    "2月19日和20日的注册人数迎来一个峰值，可能在这一天开始了一些新的活动，说明活动效果很不错\n",
    "2月21日后，注册人数呈现颓势，说明之前的的活动透支了一部分当前的推广渠道，将当前某些渠道的客户提前吸引，可以考虑削减低客源渠道推广成本\n"
   ]
  },
  {
   "cell_type": "markdown",
   "metadata": {},
   "source": [
    "##### 付费与非付费玩家对比分析\n",
    "\n",
    "划分付费与非付费玩家\n"
   ]
  },
  {
   "cell_type": "code",
   "execution_count": 19,
   "metadata": {},
   "outputs": [],
   "source": [
    "#通过付费金额区分付费用户并重新对列名重命名\n",
    "tapfun_time = tapfun.loc[:,['avg_online_minutes','pay_price']]\n",
    "tapfun_time.columns = ['平均在线时长','付费金额']\n",
    "#按照1和0 区分付费和非付费用户\n",
    "tapfun_time['是否付费']=tapfun_time['付费金额']\n"
   ]
  },
  {
   "cell_type": "code",
   "execution_count": 20,
   "metadata": {},
   "outputs": [],
   "source": [
    "tapfun_time['是否付费'][tapfun_time['是否付费']>0] = 1\n",
    "tapfun_time['是否付费'][tapfun_time['是否付费']==0] = 0"
   ]
  },
  {
   "cell_type": "code",
   "execution_count": 21,
   "metadata": {},
   "outputs": [
    {
     "data": {
      "text/plain": [
       "0.00    2246568\n",
       "1.00      41439\n",
       "Name: 是否付费, dtype: int64"
      ]
     },
     "execution_count": 21,
     "metadata": {},
     "output_type": "execute_result"
    }
   ],
   "source": [
    "tapfun_time['是否付费'].value_counts()"
   ]
  },
  {
   "cell_type": "markdown",
   "metadata": {},
   "source": [
    "######  付费与非付费玩家比较\n"
   ]
  },
  {
   "cell_type": "code",
   "execution_count": 22,
   "metadata": {},
   "outputs": [
    {
     "data": {
      "text/html": [
       "<div>\n",
       "<style scoped>\n",
       "    .dataframe tbody tr th:only-of-type {\n",
       "        vertical-align: middle;\n",
       "    }\n",
       "\n",
       "    .dataframe tbody tr th {\n",
       "        vertical-align: top;\n",
       "    }\n",
       "\n",
       "    .dataframe thead tr th {\n",
       "        text-align: left;\n",
       "    }\n",
       "\n",
       "    .dataframe thead tr:last-of-type th {\n",
       "        text-align: right;\n",
       "    }\n",
       "</style>\n",
       "<table border=\"1\" class=\"dataframe\">\n",
       "  <thead>\n",
       "    <tr>\n",
       "      <th></th>\n",
       "      <th colspan=\"8\" halign=\"left\">平均在线时长</th>\n",
       "      <th colspan=\"8\" halign=\"left\">付费金额</th>\n",
       "    </tr>\n",
       "    <tr>\n",
       "      <th></th>\n",
       "      <th>count</th>\n",
       "      <th>mean</th>\n",
       "      <th>std</th>\n",
       "      <th>min</th>\n",
       "      <th>25%</th>\n",
       "      <th>50%</th>\n",
       "      <th>75%</th>\n",
       "      <th>max</th>\n",
       "      <th>count</th>\n",
       "      <th>mean</th>\n",
       "      <th>std</th>\n",
       "      <th>min</th>\n",
       "      <th>25%</th>\n",
       "      <th>50%</th>\n",
       "      <th>75%</th>\n",
       "      <th>max</th>\n",
       "    </tr>\n",
       "    <tr>\n",
       "      <th>是否付费</th>\n",
       "      <th></th>\n",
       "      <th></th>\n",
       "      <th></th>\n",
       "      <th></th>\n",
       "      <th></th>\n",
       "      <th></th>\n",
       "      <th></th>\n",
       "      <th></th>\n",
       "      <th></th>\n",
       "      <th></th>\n",
       "      <th></th>\n",
       "      <th></th>\n",
       "      <th></th>\n",
       "      <th></th>\n",
       "      <th></th>\n",
       "      <th></th>\n",
       "    </tr>\n",
       "  </thead>\n",
       "  <tbody>\n",
       "    <tr>\n",
       "      <td>0.00</td>\n",
       "      <td>2246568.00</td>\n",
       "      <td>7.81</td>\n",
       "      <td>28.52</td>\n",
       "      <td>0.00</td>\n",
       "      <td>0.50</td>\n",
       "      <td>1.83</td>\n",
       "      <td>4.50</td>\n",
       "      <td>2049.67</td>\n",
       "      <td>2246568.00</td>\n",
       "      <td>0.00</td>\n",
       "      <td>0.00</td>\n",
       "      <td>0.00</td>\n",
       "      <td>0.00</td>\n",
       "      <td>0.00</td>\n",
       "      <td>0.00</td>\n",
       "      <td>0.00</td>\n",
       "    </tr>\n",
       "    <tr>\n",
       "      <td>1.00</td>\n",
       "      <td>41439.00</td>\n",
       "      <td>140.19</td>\n",
       "      <td>149.97</td>\n",
       "      <td>0.00</td>\n",
       "      <td>33.00</td>\n",
       "      <td>88.83</td>\n",
       "      <td>194.67</td>\n",
       "      <td>1674.67</td>\n",
       "      <td>41439.00</td>\n",
       "      <td>29.52</td>\n",
       "      <td>165.66</td>\n",
       "      <td>0.99</td>\n",
       "      <td>0.99</td>\n",
       "      <td>1.99</td>\n",
       "      <td>11.97</td>\n",
       "      <td>7457.95</td>\n",
       "    </tr>\n",
       "  </tbody>\n",
       "</table>\n",
       "</div>"
      ],
      "text/plain": [
       "         平均在线时长                                                     付费金额  \\\n",
       "          count   mean    std  min   25%   50%    75%     max      count   \n",
       "是否付费                                                                       \n",
       "0.00 2246568.00   7.81  28.52 0.00  0.50  1.83   4.50 2049.67 2246568.00   \n",
       "1.00   41439.00 140.19 149.97 0.00 33.00 88.83 194.67 1674.67   41439.00   \n",
       "\n",
       "                                                \n",
       "      mean    std  min  25%  50%   75%     max  \n",
       "是否付费                                            \n",
       "0.00  0.00   0.00 0.00 0.00 0.00  0.00    0.00  \n",
       "1.00 29.52 165.66 0.99 0.99 1.99 11.97 7457.95  "
      ]
     },
     "execution_count": 22,
     "metadata": {},
     "output_type": "execute_result"
    }
   ],
   "source": [
    "tapfun_time.groupby('是否付费').describe()"
   ]
  },
  {
   "cell_type": "markdown",
   "metadata": {},
   "source": [
    "#### 付费与非付费玩家比例为2246568：41439（付费2.01%，非付费97.99%）\n",
    "#### 付费玩家75%以上的人游戏时长大于33min，而75%的非付费玩家游玩时长小于4.5min\n"
   ]
  },
  {
   "cell_type": "markdown",
   "metadata": {},
   "source": [
    "####  活跃玩家分析\n",
    "\n",
    "定义：将平均在线时间大于30min的玩家确定为活跃玩家\n",
    "\n",
    "分析过程： 通过Kmeans聚类数据，划分为三种不同活跃等级"
   ]
  },
  {
   "cell_type": "code",
   "execution_count": 23,
   "metadata": {},
   "outputs": [],
   "source": [
    "#取出活跃用户\n",
    "activate_user = tapfun[tapfun['avg_online_minutes']>=30 & (tapfun['avg_online_minutes']<24*60)]\n",
    "#这里的小于24*60是为了排除脏数据"
   ]
  },
  {
   "cell_type": "code",
   "execution_count": 24,
   "metadata": {},
   "outputs": [],
   "source": [
    "activate_user = activate_user.loc[:,['bd_stronghold_level','pvp_battle_count','pvp_lanch_count','pvp_win_count','pve_battle_count','pve_lanch_count','pve_win_count','avg_online_minutes','pay_price','pay_count']]\n",
    "#对“建筑：要塞等级”，“PVP次数”，“主动发起PVP次数”，“PVP胜利次数”，“PVE次数”，“主动发起PVE次数”，“PVE胜利次数”，“在线时长”，“付费金额”，“付费次数”"
   ]
  },
  {
   "cell_type": "code",
   "execution_count": 25,
   "metadata": {},
   "outputs": [
    {
     "data": {
      "text/html": [
       "<div>\n",
       "<style scoped>\n",
       "    .dataframe tbody tr th:only-of-type {\n",
       "        vertical-align: middle;\n",
       "    }\n",
       "\n",
       "    .dataframe tbody tr th {\n",
       "        vertical-align: top;\n",
       "    }\n",
       "\n",
       "    .dataframe thead th {\n",
       "        text-align: right;\n",
       "    }\n",
       "</style>\n",
       "<table border=\"1\" class=\"dataframe\">\n",
       "  <thead>\n",
       "    <tr style=\"text-align: right;\">\n",
       "      <th></th>\n",
       "      <th>bd_stronghold_level</th>\n",
       "      <th>pvp_battle_count</th>\n",
       "      <th>pvp_lanch_count</th>\n",
       "      <th>pvp_win_count</th>\n",
       "      <th>pve_battle_count</th>\n",
       "      <th>pve_lanch_count</th>\n",
       "      <th>pve_win_count</th>\n",
       "      <th>avg_online_minutes</th>\n",
       "      <th>pay_price</th>\n",
       "      <th>pay_count</th>\n",
       "    </tr>\n",
       "  </thead>\n",
       "  <tbody>\n",
       "    <tr>\n",
       "      <td>0</td>\n",
       "      <td>1</td>\n",
       "      <td>0</td>\n",
       "      <td>0</td>\n",
       "      <td>0</td>\n",
       "      <td>0</td>\n",
       "      <td>0</td>\n",
       "      <td>0</td>\n",
       "      <td>0.33</td>\n",
       "      <td>0.00</td>\n",
       "      <td>0</td>\n",
       "    </tr>\n",
       "    <tr>\n",
       "      <td>1</td>\n",
       "      <td>0</td>\n",
       "      <td>0</td>\n",
       "      <td>0</td>\n",
       "      <td>0</td>\n",
       "      <td>0</td>\n",
       "      <td>0</td>\n",
       "      <td>0</td>\n",
       "      <td>0.33</td>\n",
       "      <td>0.00</td>\n",
       "      <td>0</td>\n",
       "    </tr>\n",
       "    <tr>\n",
       "      <td>2</td>\n",
       "      <td>0</td>\n",
       "      <td>0</td>\n",
       "      <td>0</td>\n",
       "      <td>0</td>\n",
       "      <td>0</td>\n",
       "      <td>0</td>\n",
       "      <td>0</td>\n",
       "      <td>1.17</td>\n",
       "      <td>0.00</td>\n",
       "      <td>0</td>\n",
       "    </tr>\n",
       "    <tr>\n",
       "      <td>3</td>\n",
       "      <td>0</td>\n",
       "      <td>0</td>\n",
       "      <td>0</td>\n",
       "      <td>0</td>\n",
       "      <td>0</td>\n",
       "      <td>0</td>\n",
       "      <td>0</td>\n",
       "      <td>3.17</td>\n",
       "      <td>0.00</td>\n",
       "      <td>0</td>\n",
       "    </tr>\n",
       "    <tr>\n",
       "      <td>4</td>\n",
       "      <td>0</td>\n",
       "      <td>0</td>\n",
       "      <td>0</td>\n",
       "      <td>0</td>\n",
       "      <td>0</td>\n",
       "      <td>0</td>\n",
       "      <td>0</td>\n",
       "      <td>2.33</td>\n",
       "      <td>0.00</td>\n",
       "      <td>0</td>\n",
       "    </tr>\n",
       "  </tbody>\n",
       "</table>\n",
       "</div>"
      ],
      "text/plain": [
       "   bd_stronghold_level  pvp_battle_count  pvp_lanch_count  pvp_win_count  \\\n",
       "0                    1                 0                0              0   \n",
       "1                    0                 0                0              0   \n",
       "2                    0                 0                0              0   \n",
       "3                    0                 0                0              0   \n",
       "4                    0                 0                0              0   \n",
       "\n",
       "   pve_battle_count  pve_lanch_count  pve_win_count  avg_online_minutes  \\\n",
       "0                 0                0              0                0.33   \n",
       "1                 0                0              0                0.33   \n",
       "2                 0                0              0                1.17   \n",
       "3                 0                0              0                3.17   \n",
       "4                 0                0              0                2.33   \n",
       "\n",
       "   pay_price  pay_count  \n",
       "0       0.00          0  \n",
       "1       0.00          0  \n",
       "2       0.00          0  \n",
       "3       0.00          0  \n",
       "4       0.00          0  "
      ]
     },
     "execution_count": 25,
     "metadata": {},
     "output_type": "execute_result"
    }
   ],
   "source": [
    "activate_user.head()"
   ]
  },
  {
   "cell_type": "markdown",
   "metadata": {},
   "source": [
    "##### 通过KMeans聚类活跃用户等级"
   ]
  },
  {
   "cell_type": "code",
   "execution_count": 26,
   "metadata": {},
   "outputs": [],
   "source": [
    "from sklearn.cluster import KMeans    #导入\n",
    "estimator = KMeans(n_clusters = 3)    #聚类中心=3个\n",
    "res = estimator.fit_predict(activate_user)"
   ]
  },
  {
   "cell_type": "markdown",
   "metadata": {},
   "source": [
    "#### KMeans 聚合点描述"
   ]
  },
  {
   "cell_type": "code",
   "execution_count": 27,
   "metadata": {},
   "outputs": [],
   "source": [
    "activate_user_means = pd.DataFrame(estimator.cluster_centers_\n",
    "                                  ,columns=[\"要塞等级\",\"PVP次数\",\"主动发起PVP次数\",\"PVP胜利次数\",\"PVE次数\",\"主动发起PVE次数\",\"PVE胜利次数\",\"在线时长\",\"付费金额\",\"付费次数\"]\n",
    "                                  ,index=[\"低活跃\",\"中活跃\",\"高活跃\"]).T"
   ]
  },
  {
   "cell_type": "code",
   "execution_count": 28,
   "metadata": {},
   "outputs": [
    {
     "data": {
      "text/html": [
       "<div>\n",
       "<style scoped>\n",
       "    .dataframe tbody tr th:only-of-type {\n",
       "        vertical-align: middle;\n",
       "    }\n",
       "\n",
       "    .dataframe tbody tr th {\n",
       "        vertical-align: top;\n",
       "    }\n",
       "\n",
       "    .dataframe thead th {\n",
       "        text-align: right;\n",
       "    }\n",
       "</style>\n",
       "<table border=\"1\" class=\"dataframe\">\n",
       "  <thead>\n",
       "    <tr style=\"text-align: right;\">\n",
       "      <th></th>\n",
       "      <th>低活跃</th>\n",
       "      <th>中活跃</th>\n",
       "      <th>高活跃</th>\n",
       "    </tr>\n",
       "  </thead>\n",
       "  <tbody>\n",
       "    <tr>\n",
       "      <td>要塞等级</td>\n",
       "      <td>1.88</td>\n",
       "      <td>8.03</td>\n",
       "      <td>10.36</td>\n",
       "    </tr>\n",
       "    <tr>\n",
       "      <td>PVP次数</td>\n",
       "      <td>1.17</td>\n",
       "      <td>22.51</td>\n",
       "      <td>79.35</td>\n",
       "    </tr>\n",
       "    <tr>\n",
       "      <td>主动发起PVP次数</td>\n",
       "      <td>0.38</td>\n",
       "      <td>14.00</td>\n",
       "      <td>62.89</td>\n",
       "    </tr>\n",
       "    <tr>\n",
       "      <td>PVP胜利次数</td>\n",
       "      <td>0.29</td>\n",
       "      <td>13.95</td>\n",
       "      <td>65.18</td>\n",
       "    </tr>\n",
       "    <tr>\n",
       "      <td>PVE次数</td>\n",
       "      <td>1.05</td>\n",
       "      <td>47.52</td>\n",
       "      <td>103.27</td>\n",
       "    </tr>\n",
       "    <tr>\n",
       "      <td>主动发起PVE次数</td>\n",
       "      <td>1.04</td>\n",
       "      <td>47.35</td>\n",
       "      <td>102.77</td>\n",
       "    </tr>\n",
       "    <tr>\n",
       "      <td>PVE胜利次数</td>\n",
       "      <td>0.91</td>\n",
       "      <td>43.38</td>\n",
       "      <td>95.90</td>\n",
       "    </tr>\n",
       "    <tr>\n",
       "      <td>在线时长</td>\n",
       "      <td>4.69</td>\n",
       "      <td>130.58</td>\n",
       "      <td>416.99</td>\n",
       "    </tr>\n",
       "    <tr>\n",
       "      <td>付费金额</td>\n",
       "      <td>0.05</td>\n",
       "      <td>4.54</td>\n",
       "      <td>75.57</td>\n",
       "    </tr>\n",
       "    <tr>\n",
       "      <td>付费次数</td>\n",
       "      <td>0.01</td>\n",
       "      <td>0.83</td>\n",
       "      <td>4.24</td>\n",
       "    </tr>\n",
       "  </tbody>\n",
       "</table>\n",
       "</div>"
      ],
      "text/plain": [
       "           低活跃    中活跃    高活跃\n",
       "要塞等级      1.88   8.03  10.36\n",
       "PVP次数     1.17  22.51  79.35\n",
       "主动发起PVP次数 0.38  14.00  62.89\n",
       "PVP胜利次数   0.29  13.95  65.18\n",
       "PVE次数     1.05  47.52 103.27\n",
       "主动发起PVE次数 1.04  47.35 102.77\n",
       "PVE胜利次数   0.91  43.38  95.90\n",
       "在线时长      4.69 130.58 416.99\n",
       "付费金额      0.05   4.54  75.57\n",
       "付费次数      0.01   0.83   4.24"
      ]
     },
     "execution_count": 28,
     "metadata": {},
     "output_type": "execute_result"
    }
   ],
   "source": [
    "activate_user_means"
   ]
  },
  {
   "cell_type": "markdown",
   "metadata": {},
   "source": [
    "#### 对比低活跃来说，要塞等级在8以上的玩家在线时长是低活跃玩家的30倍，并且这个游戏是低氪游戏而低氪玩家（中活跃和低活跃）的PVP胜率可以调至40左右来刺激其氪金，而高活跃玩家的要塞等级相对于中活跃的玩家的要塞等级差距拉得比较低，对于不同活跃等级的玩家，PVP和PVE的强度对于不同活跃等级玩家来说并没有拉开很高差距，需要提升强度来让玩家感受到调整来提升游戏的可玩性\n"
   ]
  },
  {
   "cell_type": "markdown",
   "metadata": {},
   "source": [
    "#### 接下来按照要塞等级来分析提取数据子集"
   ]
  },
  {
   "cell_type": "code",
   "execution_count": 29,
   "metadata": {},
   "outputs": [],
   "source": [
    "pay_stronghold_user = activate_user.loc[:,['bd_stronghold_level','pay_price','pay_count']]\n",
    "pay_stronghold_user['pay'] = pay_stronghold_user['pay_count']\n",
    "pay_stronghold_user['pay'][pay_stronghold_user['pay']>0]=1\n",
    "pay_stronghold_user['pay'][pay_stronghold_user['pay']==0]=0"
   ]
  },
  {
   "cell_type": "code",
   "execution_count": 30,
   "metadata": {
    "scrolled": true
   },
   "outputs": [
    {
     "data": {
      "text/plain": [
       "0     940446\n",
       "1     305723\n",
       "2     283449\n",
       "4     174717\n",
       "5     161211\n",
       "3     158473\n",
       "6      90890\n",
       "7      69298\n",
       "8      52106\n",
       "9      31809\n",
       "10     12689\n",
       "11      3863\n",
       "12      1510\n",
       "13       738\n",
       "14       462\n",
       "15       254\n",
       "16       119\n",
       "17        77\n",
       "18        62\n",
       "19        56\n",
       "20        40\n",
       "21        12\n",
       "22         2\n",
       "23         1\n",
       "Name: bd_stronghold_level, dtype: int64"
      ]
     },
     "execution_count": 30,
     "metadata": {},
     "output_type": "execute_result"
    }
   ],
   "source": [
    "pay_stronghold_user['bd_stronghold_level'].value_counts()"
   ]
  },
  {
   "cell_type": "markdown",
   "metadata": {},
   "source": [
    "##### 聚合数据（要塞等级），并求出各等级玩家的平均数据："
   ]
  },
  {
   "cell_type": "code",
   "execution_count": 31,
   "metadata": {},
   "outputs": [],
   "source": [
    "pay_stronghold_user_grouped_1 = pay_stronghold_user.groupby(['bd_stronghold_level']).agg(['count','mean','sum'])"
   ]
  },
  {
   "cell_type": "code",
   "execution_count": 32,
   "metadata": {},
   "outputs": [
    {
     "data": {
      "text/html": [
       "<div>\n",
       "<style scoped>\n",
       "    .dataframe tbody tr th:only-of-type {\n",
       "        vertical-align: middle;\n",
       "    }\n",
       "\n",
       "    .dataframe tbody tr th {\n",
       "        vertical-align: top;\n",
       "    }\n",
       "\n",
       "    .dataframe thead tr th {\n",
       "        text-align: left;\n",
       "    }\n",
       "\n",
       "    .dataframe thead tr:last-of-type th {\n",
       "        text-align: right;\n",
       "    }\n",
       "</style>\n",
       "<table border=\"1\" class=\"dataframe\">\n",
       "  <thead>\n",
       "    <tr>\n",
       "      <th></th>\n",
       "      <th colspan=\"3\" halign=\"left\">pay_price</th>\n",
       "      <th colspan=\"3\" halign=\"left\">pay_count</th>\n",
       "      <th colspan=\"3\" halign=\"left\">pay</th>\n",
       "    </tr>\n",
       "    <tr>\n",
       "      <th></th>\n",
       "      <th>count</th>\n",
       "      <th>mean</th>\n",
       "      <th>sum</th>\n",
       "      <th>count</th>\n",
       "      <th>mean</th>\n",
       "      <th>sum</th>\n",
       "      <th>count</th>\n",
       "      <th>mean</th>\n",
       "      <th>sum</th>\n",
       "    </tr>\n",
       "    <tr>\n",
       "      <th>bd_stronghold_level</th>\n",
       "      <th></th>\n",
       "      <th></th>\n",
       "      <th></th>\n",
       "      <th></th>\n",
       "      <th></th>\n",
       "      <th></th>\n",
       "      <th></th>\n",
       "      <th></th>\n",
       "      <th></th>\n",
       "    </tr>\n",
       "  </thead>\n",
       "  <tbody>\n",
       "    <tr>\n",
       "      <td>0</td>\n",
       "      <td>940446</td>\n",
       "      <td>0.07</td>\n",
       "      <td>67774.46</td>\n",
       "      <td>940446</td>\n",
       "      <td>0.01</td>\n",
       "      <td>9454</td>\n",
       "      <td>940446</td>\n",
       "      <td>0.00</td>\n",
       "      <td>4324</td>\n",
       "    </tr>\n",
       "    <tr>\n",
       "      <td>1</td>\n",
       "      <td>305723</td>\n",
       "      <td>0.01</td>\n",
       "      <td>4128.57</td>\n",
       "      <td>305723</td>\n",
       "      <td>0.00</td>\n",
       "      <td>843</td>\n",
       "      <td>305723</td>\n",
       "      <td>0.00</td>\n",
       "      <td>500</td>\n",
       "    </tr>\n",
       "    <tr>\n",
       "      <td>2</td>\n",
       "      <td>283449</td>\n",
       "      <td>0.03</td>\n",
       "      <td>8083.85</td>\n",
       "      <td>283449</td>\n",
       "      <td>0.00</td>\n",
       "      <td>1315</td>\n",
       "      <td>283449</td>\n",
       "      <td>0.00</td>\n",
       "      <td>775</td>\n",
       "    </tr>\n",
       "    <tr>\n",
       "      <td>3</td>\n",
       "      <td>158473</td>\n",
       "      <td>0.05</td>\n",
       "      <td>7394.72</td>\n",
       "      <td>158473</td>\n",
       "      <td>0.01</td>\n",
       "      <td>1428</td>\n",
       "      <td>158473</td>\n",
       "      <td>0.01</td>\n",
       "      <td>793</td>\n",
       "    </tr>\n",
       "    <tr>\n",
       "      <td>4</td>\n",
       "      <td>174717</td>\n",
       "      <td>0.04</td>\n",
       "      <td>7503.01</td>\n",
       "      <td>174717</td>\n",
       "      <td>0.01</td>\n",
       "      <td>1599</td>\n",
       "      <td>174717</td>\n",
       "      <td>0.01</td>\n",
       "      <td>949</td>\n",
       "    </tr>\n",
       "  </tbody>\n",
       "</table>\n",
       "</div>"
      ],
      "text/plain": [
       "                    pay_price               pay_count                pay       \\\n",
       "                        count mean      sum     count mean   sum   count mean   \n",
       "bd_stronghold_level                                                             \n",
       "0                      940446 0.07 67774.46    940446 0.01  9454  940446 0.00   \n",
       "1                      305723 0.01  4128.57    305723 0.00   843  305723 0.00   \n",
       "2                      283449 0.03  8083.85    283449 0.00  1315  283449 0.00   \n",
       "3                      158473 0.05  7394.72    158473 0.01  1428  158473 0.01   \n",
       "4                      174717 0.04  7503.01    174717 0.01  1599  174717 0.01   \n",
       "\n",
       "                           \n",
       "                      sum  \n",
       "bd_stronghold_level        \n",
       "0                    4324  \n",
       "1                     500  \n",
       "2                     775  \n",
       "3                     793  \n",
       "4                     949  "
      ]
     },
     "execution_count": 32,
     "metadata": {},
     "output_type": "execute_result"
    }
   ],
   "source": [
    "pay_stronghold_user_grouped_1.head()"
   ]
  },
  {
   "cell_type": "code",
   "execution_count": 33,
   "metadata": {},
   "outputs": [],
   "source": [
    "\n",
    "pay_stronghold_user_grouped_1.columns = ['人数','平均付费金额','总付费金额','1人数','平均付费次数','总付费次数','2人数','无意义','总付费人数']\n",
    "pay_stronghold_user_grouped_1.index.names = ['要塞等级']\n",
    "pay_stronghold_user_grouped_1 = pay_stronghold_user_grouped_1.drop(columns=['1人数','2人数','无意义'])\n",
    "#添加付费人数比例数据\n",
    "pay_stronghold_user_grouped_1['付费人数比例'] = round((pay_stronghold_user_grouped_1['总付费人数'] / pay_stronghold_user_grouped_1['人数']),2)\n",
    "\n"
   ]
  },
  {
   "cell_type": "code",
   "execution_count": 34,
   "metadata": {
    "scrolled": true
   },
   "outputs": [
    {
     "data": {
      "text/html": [
       "<div>\n",
       "<style scoped>\n",
       "    .dataframe tbody tr th:only-of-type {\n",
       "        vertical-align: middle;\n",
       "    }\n",
       "\n",
       "    .dataframe tbody tr th {\n",
       "        vertical-align: top;\n",
       "    }\n",
       "\n",
       "    .dataframe thead th {\n",
       "        text-align: right;\n",
       "    }\n",
       "</style>\n",
       "<table border=\"1\" class=\"dataframe\">\n",
       "  <thead>\n",
       "    <tr style=\"text-align: right;\">\n",
       "      <th></th>\n",
       "      <th>人数</th>\n",
       "      <th>平均付费金额</th>\n",
       "      <th>总付费金额</th>\n",
       "      <th>平均付费次数</th>\n",
       "      <th>总付费次数</th>\n",
       "      <th>总付费人数</th>\n",
       "      <th>付费人数比例</th>\n",
       "    </tr>\n",
       "    <tr>\n",
       "      <th>要塞等级</th>\n",
       "      <th></th>\n",
       "      <th></th>\n",
       "      <th></th>\n",
       "      <th></th>\n",
       "      <th></th>\n",
       "      <th></th>\n",
       "      <th></th>\n",
       "    </tr>\n",
       "  </thead>\n",
       "  <tbody>\n",
       "    <tr>\n",
       "      <td>0</td>\n",
       "      <td>940446</td>\n",
       "      <td>0.07</td>\n",
       "      <td>67774.46</td>\n",
       "      <td>0.01</td>\n",
       "      <td>9454</td>\n",
       "      <td>4324</td>\n",
       "      <td>0.00</td>\n",
       "    </tr>\n",
       "    <tr>\n",
       "      <td>1</td>\n",
       "      <td>305723</td>\n",
       "      <td>0.01</td>\n",
       "      <td>4128.57</td>\n",
       "      <td>0.00</td>\n",
       "      <td>843</td>\n",
       "      <td>500</td>\n",
       "      <td>0.00</td>\n",
       "    </tr>\n",
       "    <tr>\n",
       "      <td>2</td>\n",
       "      <td>283449</td>\n",
       "      <td>0.03</td>\n",
       "      <td>8083.85</td>\n",
       "      <td>0.00</td>\n",
       "      <td>1315</td>\n",
       "      <td>775</td>\n",
       "      <td>0.00</td>\n",
       "    </tr>\n",
       "    <tr>\n",
       "      <td>3</td>\n",
       "      <td>158473</td>\n",
       "      <td>0.05</td>\n",
       "      <td>7394.72</td>\n",
       "      <td>0.01</td>\n",
       "      <td>1428</td>\n",
       "      <td>793</td>\n",
       "      <td>0.01</td>\n",
       "    </tr>\n",
       "    <tr>\n",
       "      <td>4</td>\n",
       "      <td>174717</td>\n",
       "      <td>0.04</td>\n",
       "      <td>7503.01</td>\n",
       "      <td>0.01</td>\n",
       "      <td>1599</td>\n",
       "      <td>949</td>\n",
       "      <td>0.01</td>\n",
       "    </tr>\n",
       "    <tr>\n",
       "      <td>5</td>\n",
       "      <td>161211</td>\n",
       "      <td>0.04</td>\n",
       "      <td>6424.92</td>\n",
       "      <td>0.01</td>\n",
       "      <td>2008</td>\n",
       "      <td>1259</td>\n",
       "      <td>0.01</td>\n",
       "    </tr>\n",
       "    <tr>\n",
       "      <td>6</td>\n",
       "      <td>90890</td>\n",
       "      <td>0.08</td>\n",
       "      <td>7397.12</td>\n",
       "      <td>0.03</td>\n",
       "      <td>2988</td>\n",
       "      <td>1924</td>\n",
       "      <td>0.02</td>\n",
       "    </tr>\n",
       "    <tr>\n",
       "      <td>7</td>\n",
       "      <td>69298</td>\n",
       "      <td>0.22</td>\n",
       "      <td>15127.89</td>\n",
       "      <td>0.08</td>\n",
       "      <td>5711</td>\n",
       "      <td>3424</td>\n",
       "      <td>0.05</td>\n",
       "    </tr>\n",
       "    <tr>\n",
       "      <td>8</td>\n",
       "      <td>52106</td>\n",
       "      <td>0.61</td>\n",
       "      <td>31748.82</td>\n",
       "      <td>0.20</td>\n",
       "      <td>10518</td>\n",
       "      <td>5507</td>\n",
       "      <td>0.11</td>\n",
       "    </tr>\n",
       "    <tr>\n",
       "      <td>9</td>\n",
       "      <td>31809</td>\n",
       "      <td>2.31</td>\n",
       "      <td>73356.67</td>\n",
       "      <td>0.65</td>\n",
       "      <td>20533</td>\n",
       "      <td>8584</td>\n",
       "      <td>0.27</td>\n",
       "    </tr>\n",
       "    <tr>\n",
       "      <td>10</td>\n",
       "      <td>12689</td>\n",
       "      <td>8.25</td>\n",
       "      <td>104643.05</td>\n",
       "      <td>1.77</td>\n",
       "      <td>22495</td>\n",
       "      <td>6931</td>\n",
       "      <td>0.55</td>\n",
       "    </tr>\n",
       "    <tr>\n",
       "      <td>11</td>\n",
       "      <td>3863</td>\n",
       "      <td>27.32</td>\n",
       "      <td>105518.05</td>\n",
       "      <td>4.11</td>\n",
       "      <td>15895</td>\n",
       "      <td>3199</td>\n",
       "      <td>0.83</td>\n",
       "    </tr>\n",
       "    <tr>\n",
       "      <td>12</td>\n",
       "      <td>1510</td>\n",
       "      <td>59.10</td>\n",
       "      <td>89239.25</td>\n",
       "      <td>6.74</td>\n",
       "      <td>10175</td>\n",
       "      <td>1456</td>\n",
       "      <td>0.96</td>\n",
       "    </tr>\n",
       "    <tr>\n",
       "      <td>13</td>\n",
       "      <td>738</td>\n",
       "      <td>114.24</td>\n",
       "      <td>84311.48</td>\n",
       "      <td>9.28</td>\n",
       "      <td>6852</td>\n",
       "      <td>729</td>\n",
       "      <td>0.99</td>\n",
       "    </tr>\n",
       "    <tr>\n",
       "      <td>14</td>\n",
       "      <td>462</td>\n",
       "      <td>195.49</td>\n",
       "      <td>90318.01</td>\n",
       "      <td>12.55</td>\n",
       "      <td>5799</td>\n",
       "      <td>462</td>\n",
       "      <td>1.00</td>\n",
       "    </tr>\n",
       "    <tr>\n",
       "      <td>15</td>\n",
       "      <td>254</td>\n",
       "      <td>375.90</td>\n",
       "      <td>95477.83</td>\n",
       "      <td>16.60</td>\n",
       "      <td>4217</td>\n",
       "      <td>254</td>\n",
       "      <td>1.00</td>\n",
       "    </tr>\n",
       "    <tr>\n",
       "      <td>16</td>\n",
       "      <td>119</td>\n",
       "      <td>597.14</td>\n",
       "      <td>71060.11</td>\n",
       "      <td>20.08</td>\n",
       "      <td>2389</td>\n",
       "      <td>119</td>\n",
       "      <td>1.00</td>\n",
       "    </tr>\n",
       "    <tr>\n",
       "      <td>17</td>\n",
       "      <td>77</td>\n",
       "      <td>867.49</td>\n",
       "      <td>66796.44</td>\n",
       "      <td>24.10</td>\n",
       "      <td>1856</td>\n",
       "      <td>77</td>\n",
       "      <td>1.00</td>\n",
       "    </tr>\n",
       "    <tr>\n",
       "      <td>18</td>\n",
       "      <td>62</td>\n",
       "      <td>1150.02</td>\n",
       "      <td>71301.51</td>\n",
       "      <td>26.60</td>\n",
       "      <td>1649</td>\n",
       "      <td>62</td>\n",
       "      <td>1.00</td>\n",
       "    </tr>\n",
       "    <tr>\n",
       "      <td>19</td>\n",
       "      <td>56</td>\n",
       "      <td>1490.39</td>\n",
       "      <td>83461.85</td>\n",
       "      <td>32.41</td>\n",
       "      <td>1815</td>\n",
       "      <td>56</td>\n",
       "      <td>1.00</td>\n",
       "    </tr>\n",
       "    <tr>\n",
       "      <td>20</td>\n",
       "      <td>40</td>\n",
       "      <td>1940.04</td>\n",
       "      <td>77601.60</td>\n",
       "      <td>38.50</td>\n",
       "      <td>1540</td>\n",
       "      <td>40</td>\n",
       "      <td>1.00</td>\n",
       "    </tr>\n",
       "    <tr>\n",
       "      <td>21</td>\n",
       "      <td>12</td>\n",
       "      <td>3292.15</td>\n",
       "      <td>39505.81</td>\n",
       "      <td>59.92</td>\n",
       "      <td>719</td>\n",
       "      <td>12</td>\n",
       "      <td>1.00</td>\n",
       "    </tr>\n",
       "    <tr>\n",
       "      <td>22</td>\n",
       "      <td>2</td>\n",
       "      <td>6000.64</td>\n",
       "      <td>12001.28</td>\n",
       "      <td>86.00</td>\n",
       "      <td>172</td>\n",
       "      <td>2</td>\n",
       "      <td>1.00</td>\n",
       "    </tr>\n",
       "    <tr>\n",
       "      <td>23</td>\n",
       "      <td>1</td>\n",
       "      <td>3150.36</td>\n",
       "      <td>3150.36</td>\n",
       "      <td>64.00</td>\n",
       "      <td>64</td>\n",
       "      <td>1</td>\n",
       "      <td>1.00</td>\n",
       "    </tr>\n",
       "  </tbody>\n",
       "</table>\n",
       "</div>"
      ],
      "text/plain": [
       "          人数  平均付费金额     总付费金额  平均付费次数  总付费次数  总付费人数  付费人数比例\n",
       "要塞等级                                                        \n",
       "0     940446    0.07  67774.46    0.01   9454   4324    0.00\n",
       "1     305723    0.01   4128.57    0.00    843    500    0.00\n",
       "2     283449    0.03   8083.85    0.00   1315    775    0.00\n",
       "3     158473    0.05   7394.72    0.01   1428    793    0.01\n",
       "4     174717    0.04   7503.01    0.01   1599    949    0.01\n",
       "5     161211    0.04   6424.92    0.01   2008   1259    0.01\n",
       "6      90890    0.08   7397.12    0.03   2988   1924    0.02\n",
       "7      69298    0.22  15127.89    0.08   5711   3424    0.05\n",
       "8      52106    0.61  31748.82    0.20  10518   5507    0.11\n",
       "9      31809    2.31  73356.67    0.65  20533   8584    0.27\n",
       "10     12689    8.25 104643.05    1.77  22495   6931    0.55\n",
       "11      3863   27.32 105518.05    4.11  15895   3199    0.83\n",
       "12      1510   59.10  89239.25    6.74  10175   1456    0.96\n",
       "13       738  114.24  84311.48    9.28   6852    729    0.99\n",
       "14       462  195.49  90318.01   12.55   5799    462    1.00\n",
       "15       254  375.90  95477.83   16.60   4217    254    1.00\n",
       "16       119  597.14  71060.11   20.08   2389    119    1.00\n",
       "17        77  867.49  66796.44   24.10   1856     77    1.00\n",
       "18        62 1150.02  71301.51   26.60   1649     62    1.00\n",
       "19        56 1490.39  83461.85   32.41   1815     56    1.00\n",
       "20        40 1940.04  77601.60   38.50   1540     40    1.00\n",
       "21        12 3292.15  39505.81   59.92    719     12    1.00\n",
       "22         2 6000.64  12001.28   86.00    172      2    1.00\n",
       "23         1 3150.36   3150.36   64.00     64      1    1.00"
      ]
     },
     "execution_count": 34,
     "metadata": {},
     "output_type": "execute_result"
    }
   ],
   "source": [
    "pay_stronghold_user_grouped_1"
   ]
  },
  {
   "cell_type": "markdown",
   "metadata": {},
   "source": [
    "##### 可视化数据：\n",
    "\n",
    "1.对付费人数可视化"
   ]
  },
  {
   "cell_type": "code",
   "execution_count": 35,
   "metadata": {},
   "outputs": [
    {
     "data": {
      "image/png": "[encoded data removed]",
      "text/plain": [
       "<Figure size 432x288 with 1 Axes>"
      ]
     },
     "metadata": {
      "needs_background": "light"
     },
     "output_type": "display_data"
    }
   ],
   "source": [
    "X = pay_stronghold_user_grouped_1.index\n",
    "Y = pay_stronghold_user_grouped_1['付费人数比例']\n",
    "plt.figure()\n",
    "plt.bar(X,Y,color='g')\n",
    "plt.xlabel('building_level')\n",
    "plt.ylabel('Pay_Ratio')\n",
    "plt.xlim((0,24))\n",
    "plt.xticks(range(25))\n",
    "plt.show()"
   ]
  },
  {
   "cell_type": "markdown",
   "metadata": {},
   "source": [
    "###### 结论：由转化率可以看出，8-11级是玩家付费转化的关键等级节点，因此让玩家更顺滑地过渡到8-11级很有必要"
   ]
  },
  {
   "cell_type": "markdown",
   "metadata": {},
   "source": [
    "###### 2.对平均付费金额和平均付费次数可视化"
   ]
  },
  {
   "cell_type": "code",
   "execution_count": 36,
   "metadata": {},
   "outputs": [
    {
     "data": {
      "text/plain": [
       "Text(0, 0.5, 'avg_Payment_times')"
      ]
     },
     "execution_count": 36,
     "metadata": {},
     "output_type": "execute_result"
    },
    {
     "data": {
      "image/png": "[encoded data removed]",
      "text/plain": [
       "<Figure size 864x432 with 2 Axes>"
      ]
     },
     "metadata": {
      "needs_background": "light"
     },
     "output_type": "display_data"
    }
   ],
   "source": [
    "X1 = pay_stronghold_user_grouped_1.index\n",
    "Y1 = pay_stronghold_user_grouped_1['平均付费金额']\n",
    "Y2 = pay_stronghold_user_grouped_1['平均付费次数']\n",
    "\n",
    "fig, ax1 = plt.subplots(figsize=(12,6))\n",
    "ax2 = ax1.twinx()\n",
    "\n",
    "ax1.plot(X1,Y1,color='r')\n",
    "ax1.set_xlabel('building_lvl')\n",
    "ax1.set_ylabel('avg_Payment')\n",
    "ax1.set_xlim((0,24))\n",
    "ax1.set_xticks(range(25))\n",
    "\n",
    "ax2.bar(X1,Y2,color='dodgerblue',width=0.4)\n",
    "ax2.set_ylabel('avg_Payment_times')"
   ]
  },
  {
   "cell_type": "markdown",
   "metadata": {},
   "source": [
    "###### 结论： 结合前面的分析，11 级是玩家付费的阈值，因此让玩家顺滑地提升到11级对于玩家付费有很大的促进 "
   ]
  },
  {
   "cell_type": "markdown",
   "metadata": {},
   "source": [
    "######  计算活跃玩家中高级玩家和低级玩家的资源消耗对比\n",
    "\n",
    "提取数据子集：\n"
   ]
  },
  {
   "cell_type": "code",
   "execution_count": 37,
   "metadata": {},
   "outputs": [],
   "source": [
    "#活跃玩家\n",
    "tapfun_active = tapfun[tapfun['bd_stronghold_level']>=10]\n",
    "#区分高付费和低付费玩家\n",
    "tapfun_active['pay_level'] = 0\n",
    "tapfun_active['pay_level'][tapfun_active['pay_price']>=500] = 1\n",
    "tapfun_active['pay_level'][tapfun_active['pay_price']<500] = 0\n",
    "\n",
    "# 活跃-资源\n",
    "tapfun_active_Material = tapfun_active[['wood_add_value', 'wood_reduce_value',\n",
    "       'stone_add_value', 'stone_reduce_value', 'ivory_add_value',\n",
    "       'ivory_reduce_value', 'meat_add_value', 'meat_reduce_value',\n",
    "       'magic_add_value', 'magic_reduce_value','pay_level']]\n",
    "# 活跃-加速\n",
    "tapfun_active_speed = tapfun_active[['general_acceleration_add_value',\n",
    "       'general_acceleration_reduce_value',\n",
    "       'building_acceleration_add_value',\n",
    "       'building_acceleration_reduce_value',\n",
    "       'reaserch_acceleration_add_value',\n",
    "       'reaserch_acceleration_reduce_value',\n",
    "       'training_acceleration_add_value',\n",
    "       'training_acceleration_reduce_value',\n",
    "       'treatment_acceleraion_add_value',\n",
    "       'treatment_acceleration_reduce_value',\n",
    "        'pay_level']]"
   ]
  },
  {
   "cell_type": "markdown",
   "metadata": {},
   "source": [
    "##### 查看资源类物品使用状况"
   ]
  },
  {
   "cell_type": "code",
   "execution_count": 38,
   "metadata": {},
   "outputs": [],
   "source": [
    "tapfun_active_Material_1 = tapfun_active_Material.groupby(['pay_level']).mean().T\n",
    "tapfun_active_Material_1.columns=['低付费玩家','高付费玩家']\n",
    "tapfun_active_Material_1.index = ['木头获取数量','木头消耗数量','石头获取数量','石头消耗数量','象牙获取数量',\n",
    "                                  '象牙消耗数量','肉获取数量','肉消耗数量','魔法获取数量','魔法消耗数量'\n",
    "                                 ]\n",
    "tapfun_active_Material_1['倍率'] = tapfun_active_Material_1['高付费玩家']/tapfun_active_Material_1['低付费玩家']\n"
   ]
  },
  {
   "cell_type": "code",
   "execution_count": 39,
   "metadata": {},
   "outputs": [
    {
     "data": {
      "text/html": [
       "<div>\n",
       "<style scoped>\n",
       "    .dataframe tbody tr th:only-of-type {\n",
       "        vertical-align: middle;\n",
       "    }\n",
       "\n",
       "    .dataframe tbody tr th {\n",
       "        vertical-align: top;\n",
       "    }\n",
       "\n",
       "    .dataframe thead th {\n",
       "        text-align: right;\n",
       "    }\n",
       "</style>\n",
       "<table border=\"1\" class=\"dataframe\">\n",
       "  <thead>\n",
       "    <tr style=\"text-align: right;\">\n",
       "      <th></th>\n",
       "      <th>低付费玩家</th>\n",
       "      <th>高付费玩家</th>\n",
       "      <th>倍率</th>\n",
       "    </tr>\n",
       "  </thead>\n",
       "  <tbody>\n",
       "    <tr>\n",
       "      <td>木头获取数量</td>\n",
       "      <td>13938642.78</td>\n",
       "      <td>274563880.38</td>\n",
       "      <td>19.70</td>\n",
       "    </tr>\n",
       "    <tr>\n",
       "      <td>木头消耗数量</td>\n",
       "      <td>12622924.33</td>\n",
       "      <td>203848102.97</td>\n",
       "      <td>16.15</td>\n",
       "    </tr>\n",
       "    <tr>\n",
       "      <td>石头获取数量</td>\n",
       "      <td>9333659.09</td>\n",
       "      <td>265249936.11</td>\n",
       "      <td>28.42</td>\n",
       "    </tr>\n",
       "    <tr>\n",
       "      <td>石头消耗数量</td>\n",
       "      <td>7985549.74</td>\n",
       "      <td>191397121.89</td>\n",
       "      <td>23.97</td>\n",
       "    </tr>\n",
       "    <tr>\n",
       "      <td>象牙获取数量</td>\n",
       "      <td>4088284.56</td>\n",
       "      <td>127936959.92</td>\n",
       "      <td>31.29</td>\n",
       "    </tr>\n",
       "    <tr>\n",
       "      <td>象牙消耗数量</td>\n",
       "      <td>2048292.16</td>\n",
       "      <td>104369318.63</td>\n",
       "      <td>50.95</td>\n",
       "    </tr>\n",
       "    <tr>\n",
       "      <td>肉获取数量</td>\n",
       "      <td>17835778.96</td>\n",
       "      <td>301639354.03</td>\n",
       "      <td>16.91</td>\n",
       "    </tr>\n",
       "    <tr>\n",
       "      <td>肉消耗数量</td>\n",
       "      <td>12318171.64</td>\n",
       "      <td>172935627.06</td>\n",
       "      <td>14.04</td>\n",
       "    </tr>\n",
       "    <tr>\n",
       "      <td>魔法获取数量</td>\n",
       "      <td>2239363.11</td>\n",
       "      <td>25157887.74</td>\n",
       "      <td>11.23</td>\n",
       "    </tr>\n",
       "    <tr>\n",
       "      <td>魔法消耗数量</td>\n",
       "      <td>1505839.16</td>\n",
       "      <td>21810595.61</td>\n",
       "      <td>14.48</td>\n",
       "    </tr>\n",
       "  </tbody>\n",
       "</table>\n",
       "</div>"
      ],
      "text/plain": [
       "             低付费玩家        高付费玩家    倍率\n",
       "木头获取数量 13938642.78 274563880.38 19.70\n",
       "木头消耗数量 12622924.33 203848102.97 16.15\n",
       "石头获取数量  9333659.09 265249936.11 28.42\n",
       "石头消耗数量  7985549.74 191397121.89 23.97\n",
       "象牙获取数量  4088284.56 127936959.92 31.29\n",
       "象牙消耗数量  2048292.16 104369318.63 50.95\n",
       "肉获取数量  17835778.96 301639354.03 16.91\n",
       "肉消耗数量  12318171.64 172935627.06 14.04\n",
       "魔法获取数量  2239363.11  25157887.74 11.23\n",
       "魔法消耗数量  1505839.16  21810595.61 14.48"
      ]
     },
     "execution_count": 39,
     "metadata": {},
     "output_type": "execute_result"
    }
   ],
   "source": [
    "tapfun_active_Material_1"
   ]
  },
  {
   "cell_type": "code",
   "execution_count": 40,
   "metadata": {},
   "outputs": [
    {
     "data": {
      "image/png": "[encoded data removed]",
      "text/plain": [
       "<Figure size 432x288 with 1 Axes>"
      ]
     },
     "metadata": {
      "needs_background": "light"
     },
     "output_type": "display_data"
    }
   ],
   "source": [
    "X = tapfun_active_Material_1.index\n",
    "Y = tapfun_active_Material_1['倍率']\n",
    "\n",
    "plt.figure()\n",
    "plt.bar(X,Y,color='g',width=0.4)\n",
    "plt.xticks(rotation=50)\n",
    "\n",
    "#给每个柱子加上数据\n",
    "for x, y in zip(X, Y):\n",
    "    # ha: horizontal alignment\n",
    "    # va: vertical alignment\n",
    "    plt.text(x, y+1 , '%.2f'%y , ha='center', va='bottom')\n",
    "\n",
    "plt.show()"
   ]
  },
  {
   "cell_type": "markdown",
   "metadata": {},
   "source": [
    "######  付费玩家的象牙消耗对比非付费玩家更高，说明象牙是潜在的消费点，可以通过一定手段，促销或者赠送等，促使象牙的销售"
   ]
  },
  {
   "cell_type": "markdown",
   "metadata": {},
   "source": [
    "###### 加速类物品使用对比"
   ]
  },
  {
   "cell_type": "code",
   "execution_count": 41,
   "metadata": {},
   "outputs": [],
   "source": [
    "tapfun_active_speed_1 = tapfun_active_speed.groupby('pay_level').mean().T\n",
    "tapfun_active_speed_1.columns = ['低付费玩家','高付费玩家']\n",
    "tapfun_active_speed_1.index = ['通用加速获取数量','通用加速使用数量','建筑加速获取数量','建筑加速使用数量',\n",
    "                               '科研加速获取数量','科研加速使用数量','训练加速获取数量','训练加速使用数量',\n",
    "                               '治疗加速获取数量','治疗加速使用数量']\n",
    "\n",
    "\n",
    "tapfun_active_speed_1['倍率'] = tapfun_active_speed_1['高付费玩家']/tapfun_active_speed_1['低付费玩家']\n"
   ]
  },
  {
   "cell_type": "code",
   "execution_count": 42,
   "metadata": {},
   "outputs": [
    {
     "data": {
      "text/html": [
       "<div>\n",
       "<style scoped>\n",
       "    .dataframe tbody tr th:only-of-type {\n",
       "        vertical-align: middle;\n",
       "    }\n",
       "\n",
       "    .dataframe tbody tr th {\n",
       "        vertical-align: top;\n",
       "    }\n",
       "\n",
       "    .dataframe thead th {\n",
       "        text-align: right;\n",
       "    }\n",
       "</style>\n",
       "<table border=\"1\" class=\"dataframe\">\n",
       "  <thead>\n",
       "    <tr style=\"text-align: right;\">\n",
       "      <th></th>\n",
       "      <th>低付费玩家</th>\n",
       "      <th>高付费玩家</th>\n",
       "      <th>倍率</th>\n",
       "    </tr>\n",
       "  </thead>\n",
       "  <tbody>\n",
       "    <tr>\n",
       "      <td>通用加速获取数量</td>\n",
       "      <td>10647.94</td>\n",
       "      <td>159372.59</td>\n",
       "      <td>14.97</td>\n",
       "    </tr>\n",
       "    <tr>\n",
       "      <td>通用加速使用数量</td>\n",
       "      <td>8545.78</td>\n",
       "      <td>140062.36</td>\n",
       "      <td>16.39</td>\n",
       "    </tr>\n",
       "    <tr>\n",
       "      <td>建筑加速获取数量</td>\n",
       "      <td>5496.96</td>\n",
       "      <td>62330.85</td>\n",
       "      <td>11.34</td>\n",
       "    </tr>\n",
       "    <tr>\n",
       "      <td>建筑加速使用数量</td>\n",
       "      <td>5061.93</td>\n",
       "      <td>57893.94</td>\n",
       "      <td>11.44</td>\n",
       "    </tr>\n",
       "    <tr>\n",
       "      <td>科研加速获取数量</td>\n",
       "      <td>5428.44</td>\n",
       "      <td>71849.74</td>\n",
       "      <td>13.24</td>\n",
       "    </tr>\n",
       "    <tr>\n",
       "      <td>科研加速使用数量</td>\n",
       "      <td>4317.57</td>\n",
       "      <td>66270.06</td>\n",
       "      <td>15.35</td>\n",
       "    </tr>\n",
       "    <tr>\n",
       "      <td>训练加速获取数量</td>\n",
       "      <td>5595.02</td>\n",
       "      <td>95825.03</td>\n",
       "      <td>17.13</td>\n",
       "    </tr>\n",
       "    <tr>\n",
       "      <td>训练加速使用数量</td>\n",
       "      <td>3771.04</td>\n",
       "      <td>77460.22</td>\n",
       "      <td>20.54</td>\n",
       "    </tr>\n",
       "    <tr>\n",
       "      <td>治疗加速获取数量</td>\n",
       "      <td>284.55</td>\n",
       "      <td>882.94</td>\n",
       "      <td>3.10</td>\n",
       "    </tr>\n",
       "    <tr>\n",
       "      <td>治疗加速使用数量</td>\n",
       "      <td>31.61</td>\n",
       "      <td>137.54</td>\n",
       "      <td>4.35</td>\n",
       "    </tr>\n",
       "  </tbody>\n",
       "</table>\n",
       "</div>"
      ],
      "text/plain": [
       "            低付费玩家     高付费玩家    倍率\n",
       "通用加速获取数量 10647.94 159372.59 14.97\n",
       "通用加速使用数量  8545.78 140062.36 16.39\n",
       "建筑加速获取数量  5496.96  62330.85 11.34\n",
       "建筑加速使用数量  5061.93  57893.94 11.44\n",
       "科研加速获取数量  5428.44  71849.74 13.24\n",
       "科研加速使用数量  4317.57  66270.06 15.35\n",
       "训练加速获取数量  5595.02  95825.03 17.13\n",
       "训练加速使用数量  3771.04  77460.22 20.54\n",
       "治疗加速获取数量   284.55    882.94  3.10\n",
       "治疗加速使用数量    31.61    137.54  4.35"
      ]
     },
     "execution_count": 42,
     "metadata": {},
     "output_type": "execute_result"
    }
   ],
   "source": [
    "tapfun_active_speed_1"
   ]
  },
  {
   "cell_type": "code",
   "execution_count": 43,
   "metadata": {},
   "outputs": [
    {
     "name": "stderr",
     "output_type": "stream",
     "text": [
      "findfont: Font family ['sans-serif'] not found. Falling back to DejaVu Sans.\n"
     ]
    },
    {
     "data": {
      "image/png": "[encoded data removed]",
      "text/plain": [
       "<Figure size 432x288 with 1 Axes>"
      ]
     },
     "metadata": {
      "needs_background": "light"
     },
     "output_type": "display_data"
    }
   ],
   "source": [
    "X = tapfun_active_speed_1.index\n",
    "Y = tapfun_active_speed_1['倍率']\n",
    "\n",
    "plt.barh(X,Y,color='g', height =0.4)\n",
    "plt.title(\"加速卷轴对比\")\n",
    "\n",
    "plt.show()"
   ]
  },
  {
   "cell_type": "markdown",
   "metadata": {},
   "source": [
    "###### 治疗是使用最没有区别的资源，说明游戏中治疗需求不大，失败惩罚小，有利于在最初阶段积累用户，让玩家不至于太大难度而放弃。\n",
    "相比较，训练加速的使用高于其他加速资源，而建筑加速使用数量相对区别更小，结合之前的分析，玩家PVP和PVE数量较多的也是付费玩家。"
   ]
  },
  {
   "cell_type": "markdown",
   "metadata": {},
   "source": [
    "##### 结论总结\n",
    "###### 1.2月19日-2月20日的注册人数迎来峰值，推测应该是一个时长2天的活动，29号和20号注册人数是最近一周的 1.86倍，但是接下来一周的注册人数呈现颓势，仅为活动前一周的77%，因此，可以理解为活动透支了之前的渠道推广资源，因此可是适当关闭一些推广渠道，减少不必要的收入。\n",
    "###### 2.付费玩家占比2.01%，共45988玩家（非付费玩家占比97.99%，共2242019玩家）\n",
    "###### 3.付费玩家75%以上的人游戏时长大于32min，而非付费玩家75%的玩家游戏时长小于4.5min\n",
    "###### 4.要塞等级达到8的玩家拥有更高的活跃度，8-11级是玩家由免费转为付费的关键时间节点\n",
    "###### 5.活跃玩家拥有更高的PVP次数和主动发起次数，适当引导玩家增加PVP和PVE能刺激玩家的留存\n",
    "###### 6.在资源消耗上，付费玩家拥有更大的象牙消耗比例\n",
    "###### 7.再加速消耗上，治疗是差别最小的资源，而训练是差别最大，结合之前的结论，PVP和PVE能刺激玩家消费"
   ]
  },
  {
   "cell_type": "markdown",
   "metadata": {},
   "source": [
    "###### 1.2月20号后的推广渠道效率下降，需要优化\n",
    "###### 2.付费玩家占比依然较低，需要一些方式刺激玩家付费\n",
    "###### 3.32min是玩家付费的阈值，因此让玩家在第一次打开游戏的时候就持续32min很重要\n",
    "###### 4.8-11级是玩家由免费转化为付费的关键节点，结合上一条建议，让玩家在32min达到8级应该能取得不错的效果（有待验证）\n",
    "######  5.PVP和PVE是玩家保持活跃的关键玩法，游戏的成就感能促进玩家继续游戏（此处参考刺激战场的电脑玩家（低难度））\n",
    "###### 6.象牙是付费点，可以促销等增加玩家付费的门槛\n",
    "###### 7.PVP和PVE刺激玩家的训练加速使用。"
   ]
  },
  {
   "cell_type": "code",
   "execution_count": null,
   "metadata": {},
   "outputs": [],
   "source": []
  }
 ],
 "metadata": {
  "kernelspec": {
   "display_name": "Python 3",
   "language": "python",
   "name": "python3"
  },
  "language_info": {
   "codemirror_mode": {
    "name": "ipython",
    "version": 3
   },
   "file_extension": ".py",
   "mimetype": "text/x-python",
   "name": "python",
   "nbconvert_exporter": "python",
   "pygments_lexer": "ipython3",
   "version": "3.7.4"
  }
 },
 "nbformat": 4,
 "nbformat_minor": 2
}
